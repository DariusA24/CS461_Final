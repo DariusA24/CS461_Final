{
 "cells": [
  {
   "cell_type": "code",
   "execution_count": 1,
   "metadata": {},
   "outputs": [],
   "source": [
    "# Importing modules\n",
    "import numpy as np\n",
    "from PIL import Image\n",
    "import os\n",
    "from tensorflow import keras\n",
    "from sklearn.neighbors import KNeighborsClassifier\n",
    "from math import floor\n",
    "from sklearn.model_selection import train_test_split, GridSearchCV"
   ]
  },
  {
   "cell_type": "code",
   "execution_count": 2,
   "metadata": {},
   "outputs": [],
   "source": [
    "# Creating lists of .jpg files\n",
    "benign_train_imgs = os.listdir('c:\\\\Users\\\\16179\\\\OneDrive\\\\Desktop\\\\CS461_Final-1\\\\train\\\\benign')\n",
    "malig_train_imgs = os.listdir('c:\\\\Users\\\\16179\\\\OneDrive\\\\Desktop\\\\CS461_Final-1\\\\train\\\\malignant')\n",
    "\n",
    "benign_test_imgs = os.listdir('c:\\\\Users\\\\16179\\\\OneDrive\\\\Desktop\\\\CS461_Final-1\\\\test\\\\benign')\n",
    "malig_test_imgs = os.listdir('c:\\\\Users\\\\16179\\\\OneDrive\\\\Desktop\\\\CS461_Final-1\\\\test\\\\malignant')"
   ]
  },
  {
   "cell_type": "code",
   "execution_count": 3,
   "metadata": {},
   "outputs": [],
   "source": [
    "# My computer is not powerful enough to create arrays of every single image, \n",
    "# so here I decide to only use 1/4 of them\n",
    "benign_train_imgs = benign_train_imgs[:floor(len(benign_train_imgs)/4)]\n",
    "benign_test_imgs = benign_test_imgs[:floor(len(benign_test_imgs)/4)]\n",
    "\n",
    "malig_train_imgs = malig_train_imgs[:floor(len(malig_train_imgs)/4)]\n",
    "malig_test_imgs = malig_test_imgs[:floor(len(malig_test_imgs)/4)]"
   ]
  },
  {
   "cell_type": "code",
   "execution_count": 4,
   "metadata": {},
   "outputs": [],
   "source": [
    "# For each image, I resize them to 100x100, again because my computer is not powerful enough\n",
    "# I also cast each jpg as a numpy array\n",
    "for i in range(len(malig_test_imgs)):\n",
    "    path = 'c:\\\\Users\\\\16179\\\\OneDrive\\\\Desktop\\\\CS461_FINAL-1\\\\test\\\\malignant' + '\\\\' + malig_test_imgs[i]\n",
    "    img = Image.open(path)\n",
    "    img = img.resize((100,100))\n",
    "    malig_test_imgs[i] = np.array(img)\n",
    "\n",
    "for i in range(len(malig_train_imgs)):\n",
    "    path = 'c:\\\\Users\\\\16179\\\\OneDrive\\\\Desktop\\\\CS461_FINAL-1\\\\train\\\\malignant' + '\\\\' + malig_train_imgs[i]\n",
    "    img = Image.open(path)\n",
    "    img = img.resize((100,100))\n",
    "    malig_train_imgs[i] = np.array(img)\n",
    "\n",
    "for i in range(len(benign_test_imgs)):\n",
    "    path = 'c:\\\\Users\\\\16179\\\\OneDrive\\\\Desktop\\\\CS461_FINAL-1\\\\test\\\\benign' + '\\\\' + benign_test_imgs[i]\n",
    "    img = Image.open(path)\n",
    "    img = img.resize((100,100))\n",
    "    benign_test_imgs[i] = np.array(img)\n",
    "\n",
    "for i in range(len(benign_train_imgs)):\n",
    "    path = 'c:\\\\Users\\\\16179\\\\OneDrive\\\\Desktop\\\\CS461_FINAL-1\\\\train\\\\benign' + '\\\\' + benign_train_imgs[i]\n",
    "    img = Image.open(path)\n",
    "    img = img.resize((100,100))\n",
    "    benign_train_imgs[i] = np.array(img)"
   ]
  },
  {
   "cell_type": "code",
   "execution_count": 5,
   "metadata": {},
   "outputs": [],
   "source": [
    "# SKlearn requires data to be of no more than 2 dimensions, so I accomadate here by reshaping\n",
    "benign_train_imgs = np.array(benign_train_imgs, dtype=object)\n",
    "benign_train_imgs = benign_train_imgs.reshape(360, 100*100*3)"
   ]
  },
  {
   "cell_type": "code",
   "execution_count": 6,
   "metadata": {},
   "outputs": [],
   "source": [
    "benign_test_imgs = np.array(benign_test_imgs, dtype=object)\n",
    "benign_test_imgs = benign_test_imgs.reshape(90, 100*100*3)"
   ]
  },
  {
   "cell_type": "code",
   "execution_count": 7,
   "metadata": {},
   "outputs": [],
   "source": [
    "malig_train_imgs = np.array(malig_train_imgs, dtype=object)\n",
    "malig_train_imgs = malig_train_imgs.reshape(299, 100*100*3)"
   ]
  },
  {
   "cell_type": "code",
   "execution_count": 8,
   "metadata": {},
   "outputs": [],
   "source": [
    "malig_test_imgs = np.array(malig_test_imgs, dtype=object)\n",
    "malig_test_imgs = malig_test_imgs.reshape(75, 100*100*3)"
   ]
  },
  {
   "cell_type": "code",
   "execution_count": 9,
   "metadata": {},
   "outputs": [],
   "source": [
    "# Now I stack the images into one array of features\n",
    "X = np.concatenate((malig_test_imgs, malig_train_imgs), axis=0)\n",
    "X = np.concatenate((X, benign_test_imgs), axis=0)\n",
    "X = np.concatenate((X, benign_train_imgs))"
   ]
  },
  {
   "cell_type": "code",
   "execution_count": 10,
   "metadata": {},
   "outputs": [],
   "source": [
    "# Here I use the lengths of the list of images to create the array of targets\n",
    "# I arbitrarily decided malignant would be '1', and benign would be '0'\n",
    "benign_y_train = np.zeros((len(benign_test_imgs)))\n",
    "malig_y_train = np.ones((len(benign_train_imgs)))\n",
    "\n",
    "benign_y_test = np.zeros((len(malig_test_imgs)))\n",
    "malig_y_test = np.ones((len(malig_train_imgs)))\n",
    "\n",
    "y = np.concatenate((malig_y_test, malig_y_train), axis=0)\n",
    "y = np.concatenate((y, benign_y_test), axis=0)\n",
    "y = np.concatenate((y, benign_y_train), axis=0)"
   ]
  },
  {
   "cell_type": "code",
   "execution_count": 11,
   "metadata": {},
   "outputs": [],
   "source": [
    "Xtr, Xte, ytr, yte = train_test_split(X, y, test_size=.25, random_state=0)"
   ]
  },
  {
   "cell_type": "code",
   "execution_count": 12,
   "metadata": {},
   "outputs": [],
   "source": [
    "neigh = KNeighborsClassifier(n_neighbors=5)"
   ]
  },
  {
   "cell_type": "code",
   "execution_count": 13,
   "metadata": {},
   "outputs": [
    {
     "data": {
      "text/plain": [
       "KNeighborsClassifier()"
      ]
     },
     "execution_count": 13,
     "metadata": {},
     "output_type": "execute_result"
    }
   ],
   "source": [
    "neigh.fit(Xtr, ytr)"
   ]
  },
  {
   "cell_type": "code",
   "execution_count": 14,
   "metadata": {},
   "outputs": [
    {
     "data": {
      "text/plain": [
       "0.7669902912621359"
      ]
     },
     "execution_count": 14,
     "metadata": {},
     "output_type": "execute_result"
    }
   ],
   "source": [
    "neigh.score(Xte, yte)"
   ]
  },
  {
   "cell_type": "code",
   "execution_count": null,
   "metadata": {},
   "outputs": [],
   "source": []
  }
 ],
 "metadata": {
  "kernelspec": {
   "display_name": "base",
   "language": "python",
   "name": "python3"
  },
  "language_info": {
   "codemirror_mode": {
    "name": "ipython",
    "version": 3
   },
   "file_extension": ".py",
   "mimetype": "text/x-python",
   "name": "python",
   "nbconvert_exporter": "python",
   "pygments_lexer": "ipython3",
   "version": "3.8.8"
  },
  "orig_nbformat": 4,
  "vscode": {
   "interpreter": {
    "hash": "2cce2fb0e476ca7f682ae82ad2c81375856d7569ea098c8c21a27f72ab45d4c5"
   }
  }
 },
 "nbformat": 4,
 "nbformat_minor": 2
}
